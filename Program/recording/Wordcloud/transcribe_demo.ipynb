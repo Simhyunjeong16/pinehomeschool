{
 "cells": [
  {
   "cell_type": "code",
   "execution_count": null,
   "metadata": {
    "pycharm": {
     "is_executing": false
    }
   },
   "outputs": [],
   "source": [
    "import pyaudio\n",
    "import wave\n",
    "import boto3\n",
    "import time\n",
    "import datetime\n",
    "import json \n",
    "import urllib.request\n",
    "\n",
    "\n",
    "CHUNK = 1024\n",
    "FORMAT = pyaudio.paInt16\n",
    "CHANNELS = 1\n",
    "RATE = 44100\n",
    "RECORD_SECONDS = 120\n",
    "WAVE_OUTPUT_FILENAME = \"output.wav\"\n",
    "\n",
    "ACCESS_KEY = 'Your Infomation'\n",
    "SECRET_KEY = 'Your Infomation'\n",
    "BUCKET_NAME = 'Your Infomation'\n",
    "\n"
   ]
  },
  {
   "cell_type": "code",
   "execution_count": null,
   "metadata": {
    "pycharm": {
     "is_executing": false
    }
   },
   "outputs": [],
   "source": [
    "# 녹음 \n",
    "\n",
    "p = pyaudio.PyAudio()\n",
    "\n",
    "stream = p.open(format=FORMAT,\n",
    "                channels=CHANNELS,\n",
    "                rate=RATE,\n",
    "                input=True,\n",
    "                frames_per_buffer=CHUNK)\n",
    "\n",
    "print(\"Start to record the audio.\")\n",
    "\n",
    "frames = []\n",
    "\n",
    "for i in range(0, int(RATE / CHUNK * RECORD_SECONDS)):\n",
    "    data = stream.read(CHUNK)\n",
    "    frames.append(data)\n",
    "\n",
    "print(\"Recording is finished.\")\n",
    "\n",
    "stream.stop_stream()\n",
    "stream.close()\n",
    "p.terminate()\n",
    "\n",
    "wf = wave.open(WAVE_OUTPUT_FILENAME, 'wb')\n",
    "wf.setnchannels(CHANNELS)\n",
    "wf.setsampwidth(p.get_sample_size(FORMAT))\n",
    "wf.setframerate(RATE)\n",
    "wf.writeframes(b''.join(frames))\n",
    "wf.close()"
   ]
  },
  {
   "cell_type": "code",
   "execution_count": null,
   "metadata": {
    "pycharm": {
     "is_executing": false
    }
   },
   "outputs": [],
   "source": [
    "# Upload \n",
    "\n",
    "# S3 Client 생성\n",
    "s3 = boto3.client('s3', aws_access_key_id=ACCESS_KEY, aws_secret_access_key=SECRET_KEY)\n",
    "\n",
    "s3.upload_file(WAVE_OUTPUT_FILENAME, BUCKET_NAME, WAVE_OUTPUT_FILENAME)"
   ]
  },
  {
   "cell_type": "code",
   "execution_count": null,
   "metadata": {
    "pycharm": {
     "is_executing": false
    }
   },
   "outputs": [],
   "source": [
    "# Transcribe  \n",
    "\n",
    "job_name = \"test_transcribe\" + str(datetime.datetime.now())[-6:]\n",
    "job_uri = \"s3://\" + BUCKET_NAME + \"/\" + WAVE_OUTPUT_FILENAME\n",
    "\n",
    "transcribe = boto3.client('transcribe', aws_access_key_id=ACCESS_KEY, aws_secret_access_key=SECRET_KEY, region_name=\"ap-northeast-2\")\n",
    "transcribe.start_transcription_job(\n",
    "    TranscriptionJobName = job_name,\n",
    "    Media={'MediaFileUri': job_uri},\n",
    "    MediaFormat='wav',\n",
    "    MediaSampleRateHertz = RATE,\n",
    "    LanguageCode='ko-KR'\n",
    ")\n",
    "\n",
    "elapsed_time = 0\n",
    "while True:\n",
    "    status = transcribe.get_transcription_job(TranscriptionJobName=job_name)\n",
    "    if status['TranscriptionJob']['TranscriptionJobStatus'] in ['COMPLETED', 'FAILED']:\n",
    "        break\n",
    "    \n",
    "    if elapsed_time == 0:\n",
    "        print(\"Transcription start...\")\n",
    "    else:\n",
    "        print(\"Not ready yet. \" + str(elapsed_time) + \"sec passed.\")\n",
    "        \n",
    "    time.sleep(5)\n",
    "    elapsed_time += 5\n",
    "    \n",
    "print(status)"
   ]
  },
  {
   "cell_type": "code",
   "execution_count": null,
   "metadata": {
    "pycharm": {
     "is_executing": false
    }
   },
   "outputs": [],
   "source": [
    "# Transcript Result File  \n",
    "\n",
    "transcript_file_uri = status[\"TranscriptionJob\"][\"Transcript\"][\"TranscriptFileUri\"]\n",
    "print(transcript_file_uri)\n",
    "\n",
    "with urllib.request.urlopen(transcript_file_uri) as url:\n",
    "    tr_json = json.loads(url.read().decode())\n",
    "    tr_list = tr_json['results']['transcripts']\n",
    "    for tr_item in tr_list: \n",
    "        print(tr_item['transcript'])\n",
    "\n"
   ]
  },
  {
   "cell_type": "code",
   "execution_count": null,
   "metadata": {
    "pycharm": {
     "is_executing": false
    }
   },
   "outputs": [],
   "source": []
  }
 ],
 "metadata": {
  "kernelspec": {
   "display_name": "Python 3",
   "language": "python",
   "name": "python3"
  },
  "language_info": {
   "codemirror_mode": {
    "name": "ipython",
    "version": 3
   },
   "file_extension": ".py",
   "mimetype": "text/x-python",
   "name": "python",
   "nbconvert_exporter": "python",
   "pygments_lexer": "ipython3",
   "version": "3.6.6"
  }
 },
 "nbformat": 4,
 "nbformat_minor": 2
}